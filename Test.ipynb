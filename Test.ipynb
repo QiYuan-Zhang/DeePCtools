{
 "cells": [
  {
   "cell_type": "markdown",
   "metadata": {},
   "source": [
    "#### Test the SVD-based dimension reduction DeePC"
   ]
  },
  {
   "cell_type": "code",
   "execution_count": 3,
   "metadata": {},
   "outputs": [],
   "source": [
    "import deepctools as dpc\n",
    "from tutorial import Plant "
   ]
  },
  {
   "cell_type": "code",
   "execution_count": 22,
   "metadata": {},
   "outputs": [],
   "source": [
    "# deepc parameters\n",
    "T = 2000\n",
    "Tini = 60\n",
    "N = 10"
   ]
  },
  {
   "cell_type": "code",
   "execution_count": 23,
   "metadata": {},
   "outputs": [
    {
     "name": "stderr",
     "output_type": "stream",
     "text": [
      "100%|██████████| 2000/2000 [00:00<00:00, 47125.95it/s]"
     ]
    },
    {
     "name": "stdout",
     "output_type": "stream",
     "text": [
      ">> Data generation complete!\n"
     ]
    },
    {
     "name": "stderr",
     "output_type": "stream",
     "text": [
      "\n"
     ]
    }
   ],
   "source": [
    "# generate offline data\n",
    "plant = Plant()\n",
    "ud, yd = plant.generate_data(T)\n",
    "ud, yd = np.array(ud).reshape(-1, 1), np.array(yd).reshape(-1, 1)"
   ]
  },
  {
   "cell_type": "code",
   "execution_count": 24,
   "metadata": {},
   "outputs": [
    {
     "name": "stdout",
     "output_type": "stream",
     "text": [
      "Hud shape: (70, 1932), Hyd shape: (70, 1932), Hd shape: (140, 1932)\n",
      "Rank of Hd: 140,  Rank of Hud: 70\n"
     ]
    }
   ],
   "source": [
    "# obtain Hankel matrices\n",
    "Hud = dpc.hankel(ud, Tini + N)\n",
    "Hyd = dpc.hankel(yd, Tini + N)\n",
    "Hd = np.concatenate((Hud, Hyd), axis=0)\n",
    "r_hud = np.linalg.matrix_rank(Hud)\n",
    "r = np.linalg.matrix_rank(Hd)\n",
    "print(f'Hud shape: {Hud.shape}, Hyd shape: {Hyd.shape}, Hd shape: {Hd.shape}')\n",
    "print(f'Rank of Hd: {r},  Rank of Hud: {r_hud}')"
   ]
  },
  {
   "cell_type": "code",
   "execution_count": 25,
   "metadata": {},
   "outputs": [
    {
     "name": "stdout",
     "output_type": "stream",
     "text": [
      "U shape: (140, 140), S shape: (140,), VT shape: (1932, 1932)\n"
     ]
    }
   ],
   "source": [
    "# performan SVD on Hd\n",
    "U, S, VT = np.linalg.svd(Hd)\n",
    "print(f'U shape: {U.shape}, S shape: {S.shape}, VT shape: {VT.shape}')"
   ]
  },
  {
   "cell_type": "code",
   "execution_count": 26,
   "metadata": {},
   "outputs": [
    {
     "name": "stdout",
     "output_type": "stream",
     "text": [
      "Hdr shape: (140, 140)\n"
     ]
    }
   ],
   "source": [
    "# obtain the reduced-orderd Hd \n",
    "Hdr = U @ np.diag(S)\n",
    "print(f'Hdr shape: {Hdr.shape}')"
   ]
  }
 ],
 "metadata": {
  "kernelspec": {
   "display_name": "DeePC",
   "language": "python",
   "name": "python3"
  },
  "language_info": {
   "codemirror_mode": {
    "name": "ipython",
    "version": 3
   },
   "file_extension": ".py",
   "mimetype": "text/x-python",
   "name": "python",
   "nbconvert_exporter": "python",
   "pygments_lexer": "ipython3",
   "version": "3.8.18"
  }
 },
 "nbformat": 4,
 "nbformat_minor": 2
}
